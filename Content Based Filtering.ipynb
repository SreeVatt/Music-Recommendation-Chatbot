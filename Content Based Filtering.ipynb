{
 "cells": [
  {
   "cell_type": "code",
   "execution_count": null,
   "id": "def884b8",
   "metadata": {},
   "outputs": [],
   "source": []
  },
  {
   "cell_type": "code",
   "execution_count": 2,
   "id": "da07b507",
   "metadata": {},
   "outputs": [],
   "source": [
    "import pandas as pd"
   ]
  },
  {
   "cell_type": "code",
   "execution_count": 3,
   "id": "7bdbe16e",
   "metadata": {},
   "outputs": [],
   "source": [
    "songs=pd.read_csv('Content_Based_Filtering_T.csv')\n"
   ]
  },
  {
   "cell_type": "code",
   "execution_count": 27,
   "id": "212b7840",
   "metadata": {},
   "outputs": [
    {
     "data": {
      "text/html": [
       "<div>\n",
       "<style scoped>\n",
       "    .dataframe tbody tr th:only-of-type {\n",
       "        vertical-align: middle;\n",
       "    }\n",
       "\n",
       "    .dataframe tbody tr th {\n",
       "        vertical-align: top;\n",
       "    }\n",
       "\n",
       "    .dataframe thead th {\n",
       "        text-align: right;\n",
       "    }\n",
       "</style>\n",
       "<table border=\"1\" class=\"dataframe\">\n",
       "  <thead>\n",
       "    <tr style=\"text-align: right;\">\n",
       "      <th></th>\n",
       "      <th>Song ID</th>\n",
       "      <th>Song Title</th>\n",
       "      <th>Movie Name</th>\n",
       "      <th>Year</th>\n",
       "      <th>Artists</th>\n",
       "      <th>Overview</th>\n",
       "      <th>Mood</th>\n",
       "      <th>Genre</th>\n",
       "      <th>Crew</th>\n",
       "    </tr>\n",
       "  </thead>\n",
       "  <tbody>\n",
       "    <tr>\n",
       "      <th>0</th>\n",
       "      <td>1</td>\n",
       "      <td>Rowdy Baby</td>\n",
       "      <td>Maari 2</td>\n",
       "      <td>2018</td>\n",
       "      <td>['Dhanush', 'Dhee']</td>\n",
       "      <td>A high-energy dance number with a blend of fol...</td>\n",
       "      <td>Energetic</td>\n",
       "      <td>Folk</td>\n",
       "      <td>['Director: Balaji Mohan', 'Music: Yuvan Shank...</td>\n",
       "    </tr>\n",
       "    <tr>\n",
       "      <th>1</th>\n",
       "      <td>2</td>\n",
       "      <td>Vaathi Coming</td>\n",
       "      <td>Master</td>\n",
       "      <td>2021</td>\n",
       "      <td>['Anirudh Ravichander', 'G.V. Prakash Kumar']</td>\n",
       "      <td>A fun and energetic kuthu song with a catchy r...</td>\n",
       "      <td>Energetic</td>\n",
       "      <td>Folk</td>\n",
       "      <td>['Director: Lokesh Kanagaraj', 'Music: Anirudh...</td>\n",
       "    </tr>\n",
       "    <tr>\n",
       "      <th>2</th>\n",
       "      <td>3</td>\n",
       "      <td>Enjoy Enjaami</td>\n",
       "      <td>Independent</td>\n",
       "      <td>2021</td>\n",
       "      <td>['Dhee', 'Arivu']</td>\n",
       "      <td>A soulful track highlighting the beauty of nat...</td>\n",
       "      <td>Chill</td>\n",
       "      <td>Indie</td>\n",
       "      <td>['Producer: Santhosh Narayanan', 'Lyricist: Ar...</td>\n",
       "    </tr>\n",
       "    <tr>\n",
       "      <th>3</th>\n",
       "      <td>4</td>\n",
       "      <td>Why This Kolaveri Di</td>\n",
       "      <td>3</td>\n",
       "      <td>2011</td>\n",
       "      <td>['Dhanush']</td>\n",
       "      <td>A quirky song that became an internet sensatio...</td>\n",
       "      <td>Fun</td>\n",
       "      <td>Pop</td>\n",
       "      <td>['Director: Aishwarya R. Dhanush', 'Music: Ani...</td>\n",
       "    </tr>\n",
       "    <tr>\n",
       "      <th>4</th>\n",
       "      <td>5</td>\n",
       "      <td>Aalaporan Thamizhan</td>\n",
       "      <td>Mersal</td>\n",
       "      <td>2017</td>\n",
       "      <td>['Karthik']</td>\n",
       "      <td>A patriotic song celebrating Tamil culture and...</td>\n",
       "      <td>Patriotic</td>\n",
       "      <td>Folk</td>\n",
       "      <td>['Director: Atlee', 'Music: A. R. Rahman']</td>\n",
       "    </tr>\n",
       "  </tbody>\n",
       "</table>\n",
       "</div>"
      ],
      "text/plain": [
       "   Song ID            Song Title   Movie Name  Year  \\\n",
       "0        1            Rowdy Baby      Maari 2  2018   \n",
       "1        2         Vaathi Coming       Master  2021   \n",
       "2        3         Enjoy Enjaami  Independent  2021   \n",
       "3        4  Why This Kolaveri Di            3  2011   \n",
       "4        5   Aalaporan Thamizhan       Mersal  2017   \n",
       "\n",
       "                                         Artists  \\\n",
       "0                            ['Dhanush', 'Dhee']   \n",
       "1  ['Anirudh Ravichander', 'G.V. Prakash Kumar']   \n",
       "2                              ['Dhee', 'Arivu']   \n",
       "3                                    ['Dhanush']   \n",
       "4                                    ['Karthik']   \n",
       "\n",
       "                                            Overview       Mood  Genre  \\\n",
       "0  A high-energy dance number with a blend of fol...  Energetic   Folk   \n",
       "1  A fun and energetic kuthu song with a catchy r...  Energetic   Folk   \n",
       "2  A soulful track highlighting the beauty of nat...      Chill  Indie   \n",
       "3  A quirky song that became an internet sensatio...        Fun    Pop   \n",
       "4  A patriotic song celebrating Tamil culture and...  Patriotic   Folk   \n",
       "\n",
       "                                                Crew  \n",
       "0  ['Director: Balaji Mohan', 'Music: Yuvan Shank...  \n",
       "1  ['Director: Lokesh Kanagaraj', 'Music: Anirudh...  \n",
       "2  ['Producer: Santhosh Narayanan', 'Lyricist: Ar...  \n",
       "3  ['Director: Aishwarya R. Dhanush', 'Music: Ani...  \n",
       "4         ['Director: Atlee', 'Music: A. R. Rahman']  "
      ]
     },
     "execution_count": 27,
     "metadata": {},
     "output_type": "execute_result"
    }
   ],
   "source": [
    "songs.head()"
   ]
  },
  {
   "cell_type": "code",
   "execution_count": null,
   "id": "4db6ddd2",
   "metadata": {},
   "outputs": [],
   "source": []
  },
  {
   "cell_type": "code",
   "execution_count": 5,
   "id": "3a8a1429",
   "metadata": {},
   "outputs": [
    {
     "name": "stdout",
     "output_type": "stream",
     "text": [
      "songs (36, 9)\n"
     ]
    }
   ],
   "source": [
    "print('songs',songs.shape)\n"
   ]
  },
  {
   "cell_type": "code",
   "execution_count": null,
   "id": "6f87035a",
   "metadata": {},
   "outputs": [],
   "source": []
  },
  {
   "cell_type": "code",
   "execution_count": 11,
   "id": "ebe9b564",
   "metadata": {},
   "outputs": [],
   "source": [
    "df=songs"
   ]
  },
  {
   "cell_type": "code",
   "execution_count": 12,
   "id": "8acfecfc",
   "metadata": {},
   "outputs": [
    {
     "name": "stdout",
     "output_type": "stream",
     "text": [
      "<class 'pandas.core.frame.DataFrame'>\n",
      "RangeIndex: 36 entries, 0 to 35\n",
      "Data columns (total 9 columns):\n",
      " #   Column      Non-Null Count  Dtype \n",
      "---  ------      --------------  ----- \n",
      " 0   Song ID     36 non-null     int64 \n",
      " 1   Song Title  36 non-null     object\n",
      " 2   Movie Name  36 non-null     object\n",
      " 3   Year        36 non-null     int64 \n",
      " 4   Artists     36 non-null     object\n",
      " 5   Overview    36 non-null     object\n",
      " 6   Mood        36 non-null     object\n",
      " 7   Genre       36 non-null     object\n",
      " 8   Crew        36 non-null     object\n",
      "dtypes: int64(2), object(7)\n",
      "memory usage: 2.7+ KB\n"
     ]
    }
   ],
   "source": [
    "songs.info()"
   ]
  },
  {
   "cell_type": "code",
   "execution_count": null,
   "id": "3b33b65d",
   "metadata": {},
   "outputs": [],
   "source": []
  },
  {
   "cell_type": "code",
   "execution_count": 13,
   "id": "b721cc32",
   "metadata": {},
   "outputs": [
    {
     "data": {
      "text/plain": [
       "0    A high-energy dance number with a blend of fol...\n",
       "Name: Overview, dtype: object"
      ]
     },
     "execution_count": 13,
     "metadata": {},
     "output_type": "execute_result"
    }
   ],
   "source": [
    "songs.head(1).Overview"
   ]
  },
  {
   "cell_type": "code",
   "execution_count": 14,
   "id": "5de2d18f",
   "metadata": {},
   "outputs": [],
   "source": [
    "from sklearn.feature_extraction.text import TfidfVectorizer"
   ]
  },
  {
   "cell_type": "code",
   "execution_count": 15,
   "id": "fe4c1f75",
   "metadata": {},
   "outputs": [],
   "source": [
    "tfv=TfidfVectorizer(min_df=3,max_features=None,strip_accents='unicode',\n",
    "                   analyzer='word',token_pattern=r'\\w{1,}',ngram_range=(1,3),\n",
    "                   stop_words='english')\n",
    "df['Overview']=df['Overview'].fillna('')"
   ]
  },
  {
   "cell_type": "code",
   "execution_count": 17,
   "id": "58ccc0ea",
   "metadata": {},
   "outputs": [],
   "source": [
    "tfv_matrix=tfv.fit_transform(df['Overview'])"
   ]
  },
  {
   "cell_type": "code",
   "execution_count": 18,
   "id": "d9a629cf",
   "metadata": {},
   "outputs": [
    {
     "data": {
      "text/plain": [
       "<36x19 sparse matrix of type '<class 'numpy.float64'>'\n",
       "\twith 107 stored elements in Compressed Sparse Row format>"
      ]
     },
     "execution_count": 18,
     "metadata": {},
     "output_type": "execute_result"
    }
   ],
   "source": [
    "tfv_matrix"
   ]
  },
  {
   "cell_type": "code",
   "execution_count": 19,
   "id": "60adabd0",
   "metadata": {},
   "outputs": [
    {
     "data": {
      "text/plain": [
       "(36, 19)"
      ]
     },
     "execution_count": 19,
     "metadata": {},
     "output_type": "execute_result"
    }
   ],
   "source": [
    "tfv_matrix.shape"
   ]
  },
  {
   "cell_type": "code",
   "execution_count": 28,
   "id": "c7eaaf8e",
   "metadata": {},
   "outputs": [],
   "source": [
    "from sklearn.metrics.pairwise import sigmoid_kernel\n",
    "\n",
    "sig=sigmoid_kernel(tfv_matrix,tfv_matrix)"
   ]
  },
  {
   "cell_type": "code",
   "execution_count": 21,
   "id": "c2f828ae",
   "metadata": {},
   "outputs": [],
   "source": [
    "indices=pd.Series(df.index,index=df['Song Title']).drop_duplicates()"
   ]
  },
  {
   "cell_type": "code",
   "execution_count": 22,
   "id": "1e87bcf5",
   "metadata": {},
   "outputs": [
    {
     "data": {
      "text/plain": [
       "Song Title\n",
       "Rowdy Baby               0\n",
       "Vaathi Coming            1\n",
       "Enjoy Enjaami            2\n",
       "Why This Kolaveri Di     3\n",
       "Aalaporan Thamizhan      4\n",
       "Vaseegara                5\n",
       "Marana Mass              6\n",
       "Kannamma                 7\n",
       "Dippam Dappam            8\n",
       "Anbe Anbe                9\n",
       "Otha Sollaala           10\n",
       "Mukkala Mukkabala       11\n",
       "Maya Nadhi              12\n",
       "Kannaana Kanne          13\n",
       "Kaatru Veliyidai        14\n",
       "Kalyana Vayasu          15\n",
       "Danga Maari             16\n",
       "Aathi                   17\n",
       "Selfie Pulla            18\n",
       "Aathi Enna Nee          19\n",
       "Thani Oruvan            20\n",
       "Oru Naal Koothu         21\n",
       "Vennilave               22\n",
       "Mental Manadhil         23\n",
       "Kutti Story             24\n",
       "Pudhu Vellai Mazhai     25\n",
       "Unnai Kaanadhu Naan     26\n",
       "Adiye                   27\n",
       "Uyire                   28\n",
       "Kadhalan                29\n",
       "Appadi Podu             30\n",
       "Usure Pogudhey          31\n",
       "Nenjukkul Peidhidum     32\n",
       "Saarattu Vandiyila      33\n",
       "Kannamma                34\n",
       "Maduraikku Pogathadi    35\n",
       "dtype: int64"
      ]
     },
     "execution_count": 22,
     "metadata": {},
     "output_type": "execute_result"
    }
   ],
   "source": [
    "indices"
   ]
  },
  {
   "cell_type": "code",
   "execution_count": null,
   "id": "796ea3e6",
   "metadata": {},
   "outputs": [],
   "source": []
  },
  {
   "cell_type": "code",
   "execution_count": null,
   "id": "12a88198",
   "metadata": {},
   "outputs": [],
   "source": []
  },
  {
   "cell_type": "code",
   "execution_count": null,
   "id": "8eb5ea81",
   "metadata": {},
   "outputs": [],
   "source": []
  },
  {
   "cell_type": "code",
   "execution_count": 23,
   "id": "669f6427",
   "metadata": {},
   "outputs": [],
   "source": [
    "def give_rec(title,sig=sig):\n",
    "    idx=indices[title]\n",
    "    \n",
    "    sig_scores=list(enumerate(sig[idx]))\n",
    "    \n",
    "    sig_scores=sorted(sig_scores,key=lambda x:x[1],reverse=True)\n",
    "    \n",
    "    sig_scores=sig_scores[1:11]\n",
    "    \n",
    "    movies_indices=[i[0] for i in sig_scores]\n",
    "    \n",
    "    return df['Song Title'].iloc[movies_indices]"
   ]
  },
  {
   "cell_type": "code",
   "execution_count": 24,
   "id": "f1411e0b",
   "metadata": {},
   "outputs": [
    {
     "data": {
      "text/plain": [
       "30            Appadi Podu\n",
       "0              Rowdy Baby\n",
       "17                  Aathi\n",
       "20           Thani Oruvan\n",
       "29               Kadhalan\n",
       "16            Danga Maari\n",
       "6             Marana Mass\n",
       "8           Dippam Dappam\n",
       "12             Maya Nadhi\n",
       "25    Pudhu Vellai Mazhai\n",
       "Name: Song Title, dtype: object"
      ]
     },
     "execution_count": 24,
     "metadata": {},
     "output_type": "execute_result"
    }
   ],
   "source": [
    "give_rec('Mukkala Mukkabala')"
   ]
  },
  {
   "cell_type": "code",
   "execution_count": null,
   "id": "03cd8154",
   "metadata": {},
   "outputs": [],
   "source": []
  }
 ],
 "metadata": {
  "kernelspec": {
   "display_name": "Python 3 (ipykernel)",
   "language": "python",
   "name": "python3"
  },
  "language_info": {
   "codemirror_mode": {
    "name": "ipython",
    "version": 3
   },
   "file_extension": ".py",
   "mimetype": "text/x-python",
   "name": "python",
   "nbconvert_exporter": "python",
   "pygments_lexer": "ipython3",
   "version": "3.11.5"
  }
 },
 "nbformat": 4,
 "nbformat_minor": 5
}
